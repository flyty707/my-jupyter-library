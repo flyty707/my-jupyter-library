{
 "cells": [
  {
   "cell_type": "markdown",
   "id": "c878d870-9720-471e-9f20-ff84103a0eb6",
   "metadata": {},
   "source": [
    "### README\n",
    "## Variables:\n",
    "hosts: Explain how to provide hosts (editing the list, loading from a file, etc.)\n",
    "\n",
    "## Authentication\n",
    "Detail: on whether to use passwordless SSH (with setup instructions) or dynamic password input\n",
    "\n",
    "## OS-Specific Commands\n",
    "Guidance on customizing linux_discovery and windows_discovery (tools available on target systems)\n",
    "\n",
    "## Output\n",
    "Explain the structure of results. Mention 'discovery_output.csv' if users want structured export."
   ]
  },
  {
   "cell_type": "code",
   "execution_count": null,
   "id": "0f1b4cbb-4aa5-4037-8b81-d1129d8b375a",
   "metadata": {},
   "outputs": [],
   "source": [
    "# Dependencies Install\n",
    "import os\n",
    "import csv\n",
    "from fabric import Connection"
   ]
  },
  {
   "cell_type": "code",
   "execution_count": null,
   "id": "5a425b75-f517-4b8c-894f-6b087e375219",
   "metadata": {},
   "outputs": [],
   "source": [
    "# Placeholder: Authentication Options\n",
    "def get_connection(host):\n",
    "    user = \"your_username\"  # Replace with your actual username\n",
    "    # Option 1: Password-based (less secure)\n",
    "    # password = \"your_password\" \n",
    "    # conn = Connection(host, user=user, connect_kwargs={\"password\": password})\n",
    "\n",
    "    # Option 2: SSH Key-based (more secure)\n",
    "    key_filename = \"path/to/your/key.pem\"  # Replace with your key file path\n",
    "    conn = Connection(host, user=user, connect_kwargs={\"key_filename\": key_filename})\n",
    "\n",
    "    return conn\n",
    "\n",
    "# Placeholder: IP Range Input\n",
    "start_ip = \"192.168.1.10\"\n",
    "end_ip = \"192.168.1.20\"\n",
    "def generate_hosts():\n",
    "    start = list(map(int, start_ip.split(\".\")))\n",
    "    end = list(map(int, end_ip.split(\".\")))\n",
    "    hosts = []\n",
    "    for i in range(start[3], end[3] + 1):\n",
    "        hosts.append(\".\".join(map(str, start[:3] + [i])))\n",
    "    return hosts\n",
    "\n",
    "# ... (Rest of the code: os_identifier, linux_discovery, windows_discovery) ...\n",
    "\n",
    "# Output Handling\n",
    "results = []  \n",
    "\n",
    "for host in generate_hosts():\n",
    "    try:\n",
    "        c = get_connection(host)\n",
    "        os_name = os_identifier(c)\n",
    "        result = {'host': host, 'os': os_name}\n",
    "\n",
    "        if os_name == 'Linux':\n",
    "            linux_discovery(c)  # Modify to store command outputs in result  \n",
    "        elif os_name == 'Windows':\n",
    "            windows_discovery(c) # Modify to store command outputs in result  \n",
    "        else:\n",
    "            result['status'] = 'Unsupported OS' \n",
    "\n",
    "        results.append(result)\n",
    "    except Exception as e:\n",
    "        results.append({'host': host, 'os': 'Unknown', 'status': f'Error: {e}'})\n"
   ]
  },
  {
   "cell_type": "code",
   "execution_count": null,
   "id": "6fea8a47-c008-48af-887e-4651acf627a9",
   "metadata": {},
   "outputs": [],
   "source": [
    "# Display in Notebook\n",
    "from IPython.display import display, HTML\n",
    "display(HTML(f\"<h2>Discovery Results</h2> {results}\"))"
   ]
  },
  {
   "cell_type": "code",
   "execution_count": null,
   "id": "9606a392-c07c-406c-af43-13b9bb90dcc3",
   "metadata": {},
   "outputs": [],
   "source": [
    "# CSV Export\n",
    "with open('discovery_results.csv', 'w', newline='') as csvfile:\n",
    "    writer = csv.DictWriter(csvfile, fieldnames=results[0].keys())\n",
    "    writer.writeheader()\n",
    "    writer.writerows(results)"
   ]
  },
  {
   "cell_type": "code",
   "execution_count": null,
   "id": "98e82053-55d6-45de-a593-cfdc46ad3685",
   "metadata": {},
   "outputs": [],
   "source": []
  }
 ],
 "metadata": {
  "kernelspec": {
   "display_name": "Python 3 (ipykernel)",
   "language": "python",
   "name": "python3"
  },
  "language_info": {
   "codemirror_mode": {
    "name": "ipython",
    "version": 3
   },
   "file_extension": ".py",
   "mimetype": "text/x-python",
   "name": "python",
   "nbconvert_exporter": "python",
   "pygments_lexer": "ipython3",
   "version": "3.12.1"
  }
 },
 "nbformat": 4,
 "nbformat_minor": 5
}
