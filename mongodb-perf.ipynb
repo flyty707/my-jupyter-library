{
 "cells": [
  {
   "cell_type": "code",
   "execution_count": null,
   "id": "086e920f-ade9-43b2-9906-ce7c3e4b8faa",
   "metadata": {},
   "outputs": [],
   "source": [
    "# Jupyter Notebook for MongoDB Monitoring with Placeholders\n",
    "# This notebook demonstrates connecting to MongoDB, checking resources, usage, and performance, visualizing them in a graphical format. Remember to replace placeholders with your specific details.\n",
    "\n",
    "# <YOUR_MONGO_HOST>: Replace with your MongoDB hostname or IP address.\n",
    "# <YOUR_MONGO_PORT>: Replace with your MongoDB port number.\n",
    "# <YOUR_MONGO_USERNAME>: Replace with your MongoDB username (if applicable).\n",
    "# <YOUR_MONGO_PASSWORD>: Replace with your MongoDB password (if applicable).\n",
    "# <YOUR_DATABASE_NAME>: Replace with the name of your MongoDB database.\n",
    "# Note: This example uses pymongo library for connecting to MongoDB. Ensure you have it installed (pip install pymongo).\n",
    "\n",
    "Python\n",
    "# Import libraries\n",
    "import pymongo\n",
    "from pymongo import MongoClient\n",
    "from datetime import datetime\n",
    "import matplotlib.pyplot as plt\n",
    "\n",
    "# Define connection details (replace placeholders)\n",
    "mongo_host = \"<YOUR_MONGO_HOST>\"\n",
    "mongo_port = \"<YOUR_MONGO_PORT>\"\n",
    "mongo_username = \"<YOUR_MONGO_USERNAME>\"\n",
    "mongo_password = \"<YOUR_MONGO_PASSWORD>\"\n",
    "database_name = \"<YOUR_DATABASE_NAME>\""
   ]
  },
  {
   "cell_type": "code",
   "execution_count": null,
   "id": "498fd7e3-44fe-48fb-b509-04f336b4fe00",
   "metadata": {},
   "outputs": [],
   "source": [
    "# Connect to MongoDB\n",
    "try:\n",
    "  if mongo_username and mongo_password:\n",
    "    client = MongoClient(f\"mongodb://{mongo_username}:{mongo_password}@{mongo_host}:{mongo_port}/{database_name}\")\n",
    "  else:\n",
    "    client = MongoClient(f\"mongodb://{mongo_host}:{mongo_port}/{database_name}\")\n",
    "  db = client[database_name]\n",
    "  print(\"Connected to MongoDB successfully!\")\n",
    "except Exception as e:\n",
    "  print(f\"Connection error: {e}\")\n",
    "  exit()"
   ]
  },
  {
   "cell_type": "code",
   "execution_count": null,
   "id": "84cd0deb-ed5b-42b3-8e83-495e28285745",
   "metadata": {},
   "outputs": [],
   "source": [
    "# Get database statistics\n",
    "db_stats = db.command(\"dbStats\")\n",
    "\n",
    "# Extract relevant data\n",
    "collections = db_stats[\"collections\"]\n",
    "storage_size = db_stats[\"storageSize\"] / 1024 / 1024  # Convert to MB\n",
    "active_connections = db_stats[\"connections\"][\"current\"]\n",
    "operations = db_stats[\"opcounters\"][\"query\"] + db_stats[\"opcounters\"][\"insert\"] + db_stats[\"opcounters\"][\"update\"] + db_stats[\"opcounters\"][\"delete\"]\n"
   ]
  },
  {
   "cell_type": "code",
   "execution_count": null,
   "id": "a1b41c72-1256-4d54-b943-d60496c62aa9",
   "metadata": {},
   "outputs": [],
   "source": [
    "# Visualize data\n",
    "labels = [\"Collections\", \"Storage Size (MB)\", \"Active Connections\", \"Operations\"]\n",
    "sizes = [len(collections), storage_size, active_connections, operations]\n",
    "explode = (0.1, 0, 0, 0)  # Emphasize collections\n",
    "\n",
    "plt.figure(figsize=(8, 6))\n",
    "plt.pie(sizes, explode=explode, labels=labels, autopct=\"%1.1f%%\", shadow=True, startangle=140)\n",
    "plt.title(f\"MongoDB Usage at {now}\", fontsize=16)\n",
    "plt.axis(\"equal\")  # Equal aspect ratio for a circular pie chart\n",
    "plt.show()\n"
   ]
  },
  {
   "cell_type": "code",
   "execution_count": null,
   "id": "2961cede-c869-48ca-829d-cdcc5b862b0f",
   "metadata": {},
   "outputs": [],
   "source": [
    "# Disconnect from MongoDB\n",
    "client.close()\n",
    "\n",
    "print(\"Disconnected from MongoDB.\")"
   ]
  }
 ],
 "metadata": {
  "kernelspec": {
   "display_name": "Python 3 (ipykernel)",
   "language": "python",
   "name": "python3"
  },
  "language_info": {
   "codemirror_mode": {
    "name": "ipython",
    "version": 3
   },
   "file_extension": ".py",
   "mimetype": "text/x-python",
   "name": "python",
   "nbconvert_exporter": "python",
   "pygments_lexer": "ipython3",
   "version": "3.12.1"
  }
 },
 "nbformat": 4,
 "nbformat_minor": 5
}
