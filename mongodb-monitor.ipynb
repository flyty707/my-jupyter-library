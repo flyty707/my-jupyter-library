{
 "cells": [
  {
   "cell_type": "markdown",
   "id": "82f70911-8b0f-4dd3-b9ac-ead5d3f6a03e",
   "metadata": {},
   "source": [
    "Jupyter Notebook for MongoDB Monitoring\n",
    "This notebook connects to a MongoDB instance, checks resources and usage, and displays performance metrics in visualizations.\n",
    "\n",
    "Placeholders:\n",
    "\n",
    "Replace <YOUR_CONNECTION_STRING> with your actual MongoDB connection string.\n",
    "Replace <DATABASE_NAME> with the name of the database you want to monitor.\n",
    "Replace <COLLECTION_NAME> with the name of the collection you want to monitor (optional, for specific collection metrics)."
   ]
  },
  {
   "cell_type": "code",
   "execution_count": null,
   "id": "5772075e-4b77-4d11-95e3-e6c285df4e8f",
   "metadata": {},
   "outputs": [],
   "source": [
    "# Import libraries\n",
    "import pymongo\n",
    "from pymongo import MongoClient\n",
    "from datetime import datetime\n",
    "import matplotlib.pyplot as plt\n",
    "\n",
    "# Connection details (replace with yours)\n",
    "connection_string = \"<YOUR_CONNECTION_STRING>\"\n",
    "database_name = \"<DATABASE_NAME>\"\n",
    "\n",
    "# Connect to MongoDB\n",
    "client = MongoClient(connection_string)\n",
    "db = client[database_name]\n",
    "\n",
    "# Get server status\n",
    "server_status = db.command(\"serverStatus\")"
   ]
  },
  {
   "cell_type": "code",
   "execution_count": null,
   "id": "b45a73b6-7bb6-4fec-af1e-4e43e4326cf2",
   "metadata": {},
   "outputs": [],
   "source": [
    "# Memory usage\n",
    "wired_memory_usage = server_status[\"wiredMemory\"][\"used\"] / 1024 / 1024\n",
    "resident_memory_usage = server_status[\"resident\"] / 1024 / 1024"
   ]
  },
  {
   "cell_type": "code",
   "execution_count": null,
   "id": "a4d8b4c8-d2f1-4a74-a96a-e62416db099b",
   "metadata": {},
   "outputs": [],
   "source": [
    "# Operations and connections\n",
    "current_connections = server_status[\"connections\"][\"current\"]\n",
    "active_operations = server_status[\"opcounters\"][\"query\"] + server_status[\"opcounters\"][\"insert\"] + server_status[\"opcounters\"][\"update\"] + server_status[\"opcounters\"][\"delete\"]\n"
   ]
  },
  {
   "cell_type": "code",
   "execution_count": null,
   "id": "83270065-9ed5-43a0-b589-ee57b47b14a7",
   "metadata": {},
   "outputs": [],
   "source": [
    "# Query performance (optional)\n",
    "# Replace \"<COLLECTION_NAME>\" with the desired collection\n",
    "if \"<COLLECTION_NAME>\" in db.list_collection_names():\n",
    "  collection = db[\"<COLLECTION_NAME>\"]\n",
    "  explain_result = collection.explain()[\"executionStats\"]\n",
    "  query_time = explain_result[\"executionTimeMillis\"] / 1000\n",
    "\n",
    "# Timestamp\n",
    "now = datetime.now().strftime(\"%Y-%m-%d %H:%M:%S\")"
   ]
  },
  {
   "cell_type": "code",
   "execution_count": null,
   "id": "f25bd76e-5c07-4b00-9250-91d028c7917d",
   "metadata": {},
   "outputs": [],
   "source": [
    "# Print basic information\n",
    "print(f\"**Server Status ({now})**\")\n",
    "print(f\"Wired Memory Usage: {wired_memory_usage:.2f} MB\")\n",
    "print(f\"Resident Memory Usage: {resident_memory_usage:.2f} MB\")\n",
    "print(f\"Current Connections: {current_connections}\")\n",
    "print(f\"Active Operations: {active_operations}\")"
   ]
  },
  {
   "cell_type": "code",
   "execution_count": null,
   "id": "c15e4def-9ac9-4591-abfb-0602cc354f08",
   "metadata": {},
   "outputs": [],
   "source": [
    "# Visualizations\n",
    "# Memory usage pie chart\n",
    "labels = \"Wired Memory\", \"Resident Memory\"\n",
    "sizes = [wired_memory_usage, resident_memory_usage]\n",
    "explode = (0.1, 0)  # Explode first slice slightly for emphasis\n",
    "plt.pie(sizes, explode=explode, labels=labels, autopct=\"%1.1f%%\")\n",
    "plt.title(\"Memory Usage Distribution\")\n",
    "plt.axis(\"equal\")  # Equal aspect ratio ensures a circular pie chart\n",
    "plt.show()\n",
    "\n",
    "# Operations and connections time series (requires additional setup)\n",
    "# ... (implement time series visualization using libraries like pandas and matplotlib)\n",
    "\n",
    "# Add more visualizations for query performance etc. (if applicable)\n",
    "\n",
    "# Close connection\n",
    "client.close()"
   ]
  }
 ],
 "metadata": {
  "kernelspec": {
   "display_name": "Python 3 (ipykernel)",
   "language": "python",
   "name": "python3"
  },
  "language_info": {
   "codemirror_mode": {
    "name": "ipython",
    "version": 3
   },
   "file_extension": ".py",
   "mimetype": "text/x-python",
   "name": "python",
   "nbconvert_exporter": "python",
   "pygments_lexer": "ipython3",
   "version": "3.12.1"
  }
 },
 "nbformat": 4,
 "nbformat_minor": 5
}
