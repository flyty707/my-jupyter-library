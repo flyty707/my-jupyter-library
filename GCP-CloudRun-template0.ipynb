{
 "cells": [
  {
   "cell_type": "code",
   "execution_count": null,
   "id": "53cabb56-1fa6-4d53-8174-b8c0394187e9",
   "metadata": {},
   "outputs": [],
   "source": [
    "### README\n",
    "\n",
    "#### This Jupyter Notebook provides a step-by-step guide to deploying an application on Google Cloud Run. \n",
    "#### The process involves setting up the Google Cloud SDK, building and deploying a Dockerized application, \n",
    "#### and accessing the deployed application.\n",
    "\n",
    "Make sure to replace placeholders like <your_repository_url>, <your-project-id>, and <your-app-name> with your actual values.\n",
    "\n",
    "#### This README is meant to be used in conjunction with a Jupyter Notebook, where each section corresponds to a cell in the notebook. Execute each cell to follow the deployment process.\n",
    "\n",
    "#### Feel free to customize the content and structure based on your application's specific requirements.\n",
    "\n"
   ]
  },
  {
   "cell_type": "code",
   "execution_count": null,
   "id": "9f39819b-be3d-48dc-8a5a-7c028e680d73",
   "metadata": {},
   "outputs": [],
   "source": [
    "# If you already have Gcloud Cloud Shell installed locally, disregard this cell\n",
    "# Deploying an Application on GCP Cloud Run with Jupyter Notebook\n",
    "\n",
    "## Step 1: Set Up Google Cloud SDK\n",
    "\n",
    "```bash\n",
    "# Install Google Cloud SDK\n",
    "curl https://sdk.cloud.google.com | bash\n",
    "exec -l $SHELL\n",
    "gcloud init\n"
   ]
  },
  {
   "cell_type": "code",
   "execution_count": null,
   "id": "f730da6d-bf7e-4cc9-8743-a2da16fade61",
   "metadata": {},
   "outputs": [],
   "source": [
    "# Prep Cloudshell to get project\n",
    "\n",
    "# Get project info\n",
    "gcloud projects list\n",
    "\n",
    "# Get current project config\n",
    "gcloud config list\n",
    "\n",
    "# Default login to GCP from Cloud shell\n",
    "gcloud auth application-default login\n",
    "\n",
    "# Prep current project for Docker builds\n",
    "gcloud auth configure-docker <optional, add region, i.e. \"us-west-1\">\n",
    "\n"
   ]
  },
  {
   "cell_type": "code",
   "execution_count": null,
   "id": "87394b06-6acd-42bf-8392-3d7a826ee2a6",
   "metadata": {},
   "outputs": [],
   "source": [
    "# Clone your application repository\n",
    "git clone <your_repository_url>\n",
    "cd <your_application_directory>\n",
    "\n",
    "# Build the Docker image\n",
    "docker build -t gcr.io/<your-project-id>/<your-app-name> .\n",
    "\n",
    "# Push the Docker image to Google Container Registry\n",
    "gcloud builds submit --tag gcr.io/<your-project-id>/<your-app-name>\n",
    "\n",
    "# Deploy the application on Cloud Run\n",
    "gcloud run deploy <your-app-name> --image gcr.io/<your-project-id>/<your-app-name> --platform managed\n"
   ]
  },
  {
   "cell_type": "code",
   "execution_count": null,
   "id": "1a3bff58-2360-4ee2-b1c6-ad9da56b84a5",
   "metadata": {},
   "outputs": [],
   "source": [
    "# Get the service URL\n",
    "SERVICE_URL=$(gcloud run services describe <your-app-name> --format='value(status.url)')\n",
    "\n",
    "# Open the deployed application in a web browser\n",
    "echo \"Open the application at: $SERVICE_URL\"\n"
   ]
  },
  {
   "cell_type": "code",
   "execution_count": null,
   "id": "96310968-1054-47ff-826b-eaba67a53ad2",
   "metadata": {},
   "outputs": [],
   "source": [
    "# Delete the deployed service\n",
    "gcloud run services delete <your-app-name>\n",
    "\n",
    "# Delete the Docker image from Container Registry (optional)\n",
    "gcloud container images delete gcr.io/<your-project-id>/<your-app-name>\n"
   ]
  },
  {
   "cell_type": "code",
   "execution_count": null,
   "id": "bf0b74da-cf90-4c47-b68c-a1bb7511a4e1",
   "metadata": {},
   "outputs": [],
   "source": []
  }
 ],
 "metadata": {
  "kernelspec": {
   "display_name": "Python 3 (ipykernel)",
   "language": "python",
   "name": "python3"
  },
  "language_info": {
   "codemirror_mode": {
    "name": "ipython",
    "version": 3
   },
   "file_extension": ".py",
   "mimetype": "text/x-python",
   "name": "python",
   "nbconvert_exporter": "python",
   "pygments_lexer": "ipython3",
   "version": "3.12.1"
  }
 },
 "nbformat": 4,
 "nbformat_minor": 5
}
